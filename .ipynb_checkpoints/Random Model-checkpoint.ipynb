{
 "cells": [
  {
   "cell_type": "markdown",
   "metadata": {},
   "source": [
    "# Basic Model\n",
    "## Setup"
   ]
  },
  {
   "cell_type": "code",
   "execution_count": 3,
   "metadata": {},
   "outputs": [],
   "source": [
    "import pandas as pd\n",
    "import numpy as np\n",
    "\n",
    "appl = pd.read_csv(\"AAPL.csv\")\n",
    "df = appl"
   ]
  },
  {
   "cell_type": "code",
   "execution_count": 5,
   "metadata": {},
   "outputs": [
    {
     "data": {
      "text/html": [
       "<div>\n",
       "<style>\n",
       "    .dataframe thead tr:only-child th {\n",
       "        text-align: right;\n",
       "    }\n",
       "\n",
       "    .dataframe thead th {\n",
       "        text-align: left;\n",
       "    }\n",
       "\n",
       "    .dataframe tbody tr th {\n",
       "        vertical-align: top;\n",
       "    }\n",
       "</style>\n",
       "<table border=\"1\" class=\"dataframe\">\n",
       "  <thead>\n",
       "    <tr style=\"text-align: right;\">\n",
       "      <th></th>\n",
       "      <th>Date</th>\n",
       "      <th>Open</th>\n",
       "      <th>High</th>\n",
       "      <th>Low</th>\n",
       "      <th>Close</th>\n",
       "      <th>Adj_Close</th>\n",
       "      <th>Volume</th>\n",
       "    </tr>\n",
       "  </thead>\n",
       "  <tbody>\n",
       "    <tr>\n",
       "      <th>0</th>\n",
       "      <td>2017-11-03</td>\n",
       "      <td>174.000000</td>\n",
       "      <td>174.259995</td>\n",
       "      <td>171.119995</td>\n",
       "      <td>172.500000</td>\n",
       "      <td>171.882111</td>\n",
       "      <td>59398600</td>\n",
       "    </tr>\n",
       "    <tr>\n",
       "      <th>1</th>\n",
       "      <td>2017-11-06</td>\n",
       "      <td>172.369995</td>\n",
       "      <td>174.990005</td>\n",
       "      <td>171.720001</td>\n",
       "      <td>174.250000</td>\n",
       "      <td>173.625839</td>\n",
       "      <td>35026300</td>\n",
       "    </tr>\n",
       "    <tr>\n",
       "      <th>2</th>\n",
       "      <td>2017-11-07</td>\n",
       "      <td>173.910004</td>\n",
       "      <td>175.250000</td>\n",
       "      <td>173.600006</td>\n",
       "      <td>174.809998</td>\n",
       "      <td>174.183823</td>\n",
       "      <td>24361500</td>\n",
       "    </tr>\n",
       "    <tr>\n",
       "      <th>3</th>\n",
       "      <td>2017-11-08</td>\n",
       "      <td>174.660004</td>\n",
       "      <td>176.240005</td>\n",
       "      <td>174.330002</td>\n",
       "      <td>176.240005</td>\n",
       "      <td>175.608719</td>\n",
       "      <td>24409500</td>\n",
       "    </tr>\n",
       "    <tr>\n",
       "      <th>4</th>\n",
       "      <td>2017-11-09</td>\n",
       "      <td>175.110001</td>\n",
       "      <td>176.100006</td>\n",
       "      <td>173.139999</td>\n",
       "      <td>175.880005</td>\n",
       "      <td>175.250000</td>\n",
       "      <td>29482600</td>\n",
       "    </tr>\n",
       "  </tbody>\n",
       "</table>\n",
       "</div>"
      ],
      "text/plain": [
       "         Date        Open        High         Low       Close   Adj_Close  \\\n",
       "0  2017-11-03  174.000000  174.259995  171.119995  172.500000  171.882111   \n",
       "1  2017-11-06  172.369995  174.990005  171.720001  174.250000  173.625839   \n",
       "2  2017-11-07  173.910004  175.250000  173.600006  174.809998  174.183823   \n",
       "3  2017-11-08  174.660004  176.240005  174.330002  176.240005  175.608719   \n",
       "4  2017-11-09  175.110001  176.100006  173.139999  175.880005  175.250000   \n",
       "\n",
       "     Volume  \n",
       "0  59398600  \n",
       "1  35026300  \n",
       "2  24361500  \n",
       "3  24409500  \n",
       "4  29482600  "
      ]
     },
     "execution_count": 5,
     "metadata": {},
     "output_type": "execute_result"
    }
   ],
   "source": [
    "df.columns = [c.replace(' ', '_') for c in appl.columns]\n",
    "\n",
    "df.head()"
   ]
  },
  {
   "cell_type": "code",
   "execution_count": 13,
   "metadata": {},
   "outputs": [
    {
     "name": "stdout",
     "output_type": "stream",
     "text": [
      "[0 1 1 0 0 1 1 1 0 0]\n"
     ]
    }
   ],
   "source": [
    "a = np.random.randint(2,size=10)\n",
    "print(a)"
   ]
  },
  {
   "cell_type": "code",
   "execution_count": 30,
   "metadata": {},
   "outputs": [
    {
     "name": "stdout",
     "output_type": "stream",
     "text": [
      "[0]\n",
      "[0]\n",
      "[1]\n",
      "[0]\n",
      "[0]\n",
      "[0]\n",
      "[0]\n",
      "[1]\n",
      "[1]\n",
      "[1]\n",
      "[1]\n",
      "[0]\n",
      "[0]\n",
      "[1]\n",
      "('current account ', 10095.559089999997, ' Stocks purchased', 0)\n"
     ]
    }
   ],
   "source": [
    "money = 10000\n",
    "stocks = 0\n",
    "\n",
    "\n",
    "for i in df['Open']:\n",
    "    a = np.random.randint(2,size=1)\n",
    "    if(a>0):\n",
    "        if(money > i):\n",
    "            print(a)\n",
    "            purchased = np.floor(money/i)\n",
    "            money = money - np.floor(money/i)*i\n",
    "            stocks = stocks + purchased\n",
    "        else:\n",
    "            money = money+stocks*i\n",
    "            stocks = 0\n",
    "    else:\n",
    "        print(a)\n",
    "\n",
    "money = money+stocks*i\n",
    "print(\"current account \",money,\" Stocks purchased\", stocks)"
   ]
  }
 ],
 "metadata": {
  "kernelspec": {
   "display_name": "Python 2",
   "language": "python",
   "name": "python2"
  },
  "language_info": {
   "codemirror_mode": {
    "name": "ipython",
    "version": 2
   },
   "file_extension": ".py",
   "mimetype": "text/x-python",
   "name": "python",
   "nbconvert_exporter": "python",
   "pygments_lexer": "ipython2",
   "version": "2.7.13"
  }
 },
 "nbformat": 4,
 "nbformat_minor": 2
}
